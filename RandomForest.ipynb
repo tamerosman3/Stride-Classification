{
 "cells": [
  {
   "cell_type": "code",
   "execution_count": 2,
   "id": "cfd4581b",
   "metadata": {
    "scrolled": true
   },
   "outputs": [
    {
     "ename": "ModuleNotFoundError",
     "evalue": "No module named 'sklearn'",
     "output_type": "error",
     "traceback": [
      "\u001b[1;31m---------------------------------------------------------------------------\u001b[0m",
      "\u001b[1;31mModuleNotFoundError\u001b[0m                       Traceback (most recent call last)",
      "Cell \u001b[1;32mIn[2], line 3\u001b[0m\n\u001b[0;32m      1\u001b[0m \u001b[39mimport\u001b[39;00m \u001b[39mpandas\u001b[39;00m \u001b[39mas\u001b[39;00m \u001b[39mpd\u001b[39;00m\n\u001b[0;32m      2\u001b[0m \u001b[39mimport\u001b[39;00m \u001b[39mnumpy\u001b[39;00m \u001b[39mas\u001b[39;00m \u001b[39mnp\u001b[39;00m\n\u001b[1;32m----> 3\u001b[0m \u001b[39mfrom\u001b[39;00m \u001b[39msklearn\u001b[39;00m\u001b[39m.\u001b[39;00m\u001b[39mensemble\u001b[39;00m \u001b[39mimport\u001b[39;00m RandomForestClassifier \n\u001b[0;32m      4\u001b[0m \u001b[39mfrom\u001b[39;00m \u001b[39msklearn\u001b[39;00m\u001b[39m.\u001b[39;00m\u001b[39mtree\u001b[39;00m \u001b[39mimport\u001b[39;00m DecisionTreeClassifier\n\u001b[0;32m      5\u001b[0m \u001b[39mfrom\u001b[39;00m \u001b[39msklearn\u001b[39;00m\u001b[39m.\u001b[39;00m\u001b[39mmetrics\u001b[39;00m \u001b[39mimport\u001b[39;00m confusion_matrix, classification_report, precision_score, confusion_matrix\n",
      "\u001b[1;31mModuleNotFoundError\u001b[0m: No module named 'sklearn'"
     ]
    }
   ],
   "source": [
    "import pandas as pd\n",
    "import numpy as np\n",
    "from sklearn.ensemble import RandomForestClassifier \n",
    "from sklearn.tree import DecisionTreeClassifier\n",
    "from sklearn.metrics import confusion_matrix, classification_report, precision_score, confusion_matrix\n",
    "from sklearn.metrics import plot_roc_curve, precision_recall_curve, auc, make_scorer, recall_score, accuracy_score\n",
    "from sklearn.model_selection import GridSearchCV, train_test_split\n",
    "from imblearn.base import *"
   ]
  },
  {
   "cell_type": "code",
   "execution_count": 131,
   "id": "38e8ea7d",
   "metadata": {},
   "outputs": [],
   "source": [
    "import os"
   ]
  },
  {
   "cell_type": "code",
   "execution_count": 132,
   "id": "339f64a0",
   "metadata": {},
   "outputs": [
    {
     "data": {
      "text/html": [
       "<div>\n",
       "<style scoped>\n",
       "    .dataframe tbody tr th:only-of-type {\n",
       "        vertical-align: middle;\n",
       "    }\n",
       "\n",
       "    .dataframe tbody tr th {\n",
       "        vertical-align: top;\n",
       "    }\n",
       "\n",
       "    .dataframe thead th {\n",
       "        text-align: right;\n",
       "    }\n",
       "</style>\n",
       "<table border=\"1\" class=\"dataframe\">\n",
       "  <thead>\n",
       "    <tr style=\"text-align: right;\">\n",
       "      <th></th>\n",
       "      <th>Feat1</th>\n",
       "      <th>Feat2</th>\n",
       "      <th>Feat3</th>\n",
       "      <th>Feat4</th>\n",
       "      <th>Feat5</th>\n",
       "      <th>Feat6</th>\n",
       "      <th>Feat7</th>\n",
       "      <th>Feat8</th>\n",
       "      <th>Feat9</th>\n",
       "      <th>Feat10</th>\n",
       "      <th>...</th>\n",
       "      <th>Feat393</th>\n",
       "      <th>Feat394</th>\n",
       "      <th>Feat395</th>\n",
       "      <th>Feat396</th>\n",
       "      <th>Feat397</th>\n",
       "      <th>Feat398</th>\n",
       "      <th>Feat399</th>\n",
       "      <th>Feat400</th>\n",
       "      <th>Feat401</th>\n",
       "      <th>Feat402</th>\n",
       "    </tr>\n",
       "  </thead>\n",
       "  <tbody>\n",
       "    <tr>\n",
       "      <th>0</th>\n",
       "      <td>142.78</td>\n",
       "      <td>139.57</td>\n",
       "      <td>136.410</td>\n",
       "      <td>133.29</td>\n",
       "      <td>130.200</td>\n",
       "      <td>127.150</td>\n",
       "      <td>124.140</td>\n",
       "      <td>121.160</td>\n",
       "      <td>118.220</td>\n",
       "      <td>115.310</td>\n",
       "      <td>...</td>\n",
       "      <td>0.016280</td>\n",
       "      <td>0.024717</td>\n",
       "      <td>0.033266</td>\n",
       "      <td>0.041384</td>\n",
       "      <td>0.048445</td>\n",
       "      <td>0.053766</td>\n",
       "      <td>0.056632</td>\n",
       "      <td>0.056343</td>\n",
       "      <td>0.052267</td>\n",
       "      <td>0.043893</td>\n",
       "    </tr>\n",
       "    <tr>\n",
       "      <th>1</th>\n",
       "      <td>152.94</td>\n",
       "      <td>150.78</td>\n",
       "      <td>148.640</td>\n",
       "      <td>146.52</td>\n",
       "      <td>144.410</td>\n",
       "      <td>142.320</td>\n",
       "      <td>140.240</td>\n",
       "      <td>138.180</td>\n",
       "      <td>136.120</td>\n",
       "      <td>134.070</td>\n",
       "      <td>...</td>\n",
       "      <td>-0.021758</td>\n",
       "      <td>-0.019391</td>\n",
       "      <td>-0.014964</td>\n",
       "      <td>-0.008357</td>\n",
       "      <td>0.000405</td>\n",
       "      <td>0.011123</td>\n",
       "      <td>0.023397</td>\n",
       "      <td>0.036615</td>\n",
       "      <td>0.049953</td>\n",
       "      <td>0.062388</td>\n",
       "    </tr>\n",
       "    <tr>\n",
       "      <th>2</th>\n",
       "      <td>102.26</td>\n",
       "      <td>100.27</td>\n",
       "      <td>98.313</td>\n",
       "      <td>96.38</td>\n",
       "      <td>94.475</td>\n",
       "      <td>92.599</td>\n",
       "      <td>90.753</td>\n",
       "      <td>88.938</td>\n",
       "      <td>87.154</td>\n",
       "      <td>85.402</td>\n",
       "      <td>...</td>\n",
       "      <td>0.014241</td>\n",
       "      <td>0.020379</td>\n",
       "      <td>0.026396</td>\n",
       "      <td>0.031841</td>\n",
       "      <td>0.036208</td>\n",
       "      <td>0.038960</td>\n",
       "      <td>0.039556</td>\n",
       "      <td>0.037492</td>\n",
       "      <td>0.032344</td>\n",
       "      <td>0.023813</td>\n",
       "    </tr>\n",
       "    <tr>\n",
       "      <th>3</th>\n",
       "      <td>405.24</td>\n",
       "      <td>400.55</td>\n",
       "      <td>395.890</td>\n",
       "      <td>391.26</td>\n",
       "      <td>386.650</td>\n",
       "      <td>382.060</td>\n",
       "      <td>377.490</td>\n",
       "      <td>372.950</td>\n",
       "      <td>368.430</td>\n",
       "      <td>363.940</td>\n",
       "      <td>...</td>\n",
       "      <td>-0.004801</td>\n",
       "      <td>-0.007280</td>\n",
       "      <td>-0.009650</td>\n",
       "      <td>-0.011634</td>\n",
       "      <td>-0.012920</td>\n",
       "      <td>-0.013191</td>\n",
       "      <td>-0.012149</td>\n",
       "      <td>-0.009557</td>\n",
       "      <td>-0.005278</td>\n",
       "      <td>0.000687</td>\n",
       "    </tr>\n",
       "    <tr>\n",
       "      <th>4</th>\n",
       "      <td>305.78</td>\n",
       "      <td>301.06</td>\n",
       "      <td>296.420</td>\n",
       "      <td>291.86</td>\n",
       "      <td>287.380</td>\n",
       "      <td>282.960</td>\n",
       "      <td>278.610</td>\n",
       "      <td>274.320</td>\n",
       "      <td>270.090</td>\n",
       "      <td>265.890</td>\n",
       "      <td>...</td>\n",
       "      <td>-0.004206</td>\n",
       "      <td>-0.006528</td>\n",
       "      <td>-0.008786</td>\n",
       "      <td>-0.010735</td>\n",
       "      <td>-0.012094</td>\n",
       "      <td>-0.012572</td>\n",
       "      <td>-0.011887</td>\n",
       "      <td>-0.009809</td>\n",
       "      <td>-0.006186</td>\n",
       "      <td>-0.000987</td>\n",
       "    </tr>\n",
       "  </tbody>\n",
       "</table>\n",
       "<p>5 rows × 402 columns</p>\n",
       "</div>"
      ],
      "text/plain": [
       "    Feat1   Feat2    Feat3   Feat4    Feat5    Feat6    Feat7    Feat8  \\\n",
       "0  142.78  139.57  136.410  133.29  130.200  127.150  124.140  121.160   \n",
       "1  152.94  150.78  148.640  146.52  144.410  142.320  140.240  138.180   \n",
       "2  102.26  100.27   98.313   96.38   94.475   92.599   90.753   88.938   \n",
       "3  405.24  400.55  395.890  391.26  386.650  382.060  377.490  372.950   \n",
       "4  305.78  301.06  296.420  291.86  287.380  282.960  278.610  274.320   \n",
       "\n",
       "     Feat9   Feat10  ...   Feat393   Feat394   Feat395   Feat396   Feat397  \\\n",
       "0  118.220  115.310  ...  0.016280  0.024717  0.033266  0.041384  0.048445   \n",
       "1  136.120  134.070  ... -0.021758 -0.019391 -0.014964 -0.008357  0.000405   \n",
       "2   87.154   85.402  ...  0.014241  0.020379  0.026396  0.031841  0.036208   \n",
       "3  368.430  363.940  ... -0.004801 -0.007280 -0.009650 -0.011634 -0.012920   \n",
       "4  270.090  265.890  ... -0.004206 -0.006528 -0.008786 -0.010735 -0.012094   \n",
       "\n",
       "    Feat398   Feat399   Feat400   Feat401   Feat402  \n",
       "0  0.053766  0.056632  0.056343  0.052267  0.043893  \n",
       "1  0.011123  0.023397  0.036615  0.049953  0.062388  \n",
       "2  0.038960  0.039556  0.037492  0.032344  0.023813  \n",
       "3 -0.013191 -0.012149 -0.009557 -0.005278  0.000687  \n",
       "4 -0.012572 -0.011887 -0.009809 -0.006186 -0.000987  \n",
       "\n",
       "[5 rows x 402 columns]"
      ]
     },
     "execution_count": 132,
     "metadata": {},
     "output_type": "execute_result"
    }
   ],
   "source": [
    "featFrame = pd.read_csv('backFeats_v3.csv',header=0)\n",
    "labelFrame = pd.read_csv('labelFileBinary_v3.csv',header=0)\n",
    "featFrame.head()"
   ]
  },
  {
   "cell_type": "code",
   "execution_count": 133,
   "id": "f5f72635",
   "metadata": {},
   "outputs": [
    {
     "data": {
      "text/plain": [
       "Feat1      0\n",
       "Feat2      0\n",
       "Feat3      0\n",
       "Feat4      0\n",
       "Feat5      0\n",
       "          ..\n",
       "Feat398    0\n",
       "Feat399    0\n",
       "Feat400    0\n",
       "Feat401    0\n",
       "Feat402    0\n",
       "Length: 402, dtype: int64"
      ]
     },
     "execution_count": 133,
     "metadata": {},
     "output_type": "execute_result"
    }
   ],
   "source": [
    "featFrame.isnull().sum()    #checking if there are missing values in the dataset"
   ]
  },
  {
   "cell_type": "code",
   "execution_count": 134,
   "id": "2427b59d",
   "metadata": {},
   "outputs": [
    {
     "data": {
      "text/html": [
       "<div>\n",
       "<style scoped>\n",
       "    .dataframe tbody tr th:only-of-type {\n",
       "        vertical-align: middle;\n",
       "    }\n",
       "\n",
       "    .dataframe tbody tr th {\n",
       "        vertical-align: top;\n",
       "    }\n",
       "\n",
       "    .dataframe thead th {\n",
       "        text-align: right;\n",
       "    }\n",
       "</style>\n",
       "<table border=\"1\" class=\"dataframe\">\n",
       "  <thead>\n",
       "    <tr style=\"text-align: right;\">\n",
       "      <th></th>\n",
       "      <th>SampleID</th>\n",
       "    </tr>\n",
       "  </thead>\n",
       "  <tbody>\n",
       "    <tr>\n",
       "      <th>0</th>\n",
       "      <td>0</td>\n",
       "    </tr>\n",
       "    <tr>\n",
       "      <th>1</th>\n",
       "      <td>0</td>\n",
       "    </tr>\n",
       "    <tr>\n",
       "      <th>2</th>\n",
       "      <td>0</td>\n",
       "    </tr>\n",
       "    <tr>\n",
       "      <th>3</th>\n",
       "      <td>0</td>\n",
       "    </tr>\n",
       "    <tr>\n",
       "      <th>4</th>\n",
       "      <td>0</td>\n",
       "    </tr>\n",
       "  </tbody>\n",
       "</table>\n",
       "</div>"
      ],
      "text/plain": [
       "   SampleID\n",
       "0         0\n",
       "1         0\n",
       "2         0\n",
       "3         0\n",
       "4         0"
      ]
     },
     "execution_count": 134,
     "metadata": {},
     "output_type": "execute_result"
    }
   ],
   "source": [
    "labelFrame.head()"
   ]
  },
  {
   "cell_type": "code",
   "execution_count": 135,
   "id": "6ba20320",
   "metadata": {},
   "outputs": [
    {
     "data": {
      "text/plain": [
       "SampleID    0\n",
       "dtype: int64"
      ]
     },
     "execution_count": 135,
     "metadata": {},
     "output_type": "execute_result"
    }
   ],
   "source": [
    "labelFrame.isnull().sum()"
   ]
  },
  {
   "cell_type": "code",
   "execution_count": 136,
   "id": "90228755",
   "metadata": {},
   "outputs": [
    {
     "name": "stdout",
     "output_type": "stream",
     "text": [
      "(345, 402)\n"
     ]
    }
   ],
   "source": [
    "print(featFrame.shape) # 345 samples and 402 time points in each"
   ]
  },
  {
   "cell_type": "code",
   "execution_count": 137,
   "id": "a8be9ee9",
   "metadata": {
    "scrolled": true
   },
   "outputs": [
    {
     "name": "stdout",
     "output_type": "stream",
     "text": [
      "(345, 1)\n"
     ]
    }
   ],
   "source": [
    "print(labelFrame.shape)  "
   ]
  },
  {
   "cell_type": "code",
   "execution_count": 138,
   "id": "86b6612e",
   "metadata": {},
   "outputs": [
    {
     "name": "stdout",
     "output_type": "stream",
     "text": [
      "SampleID    65\n",
      "dtype: int64\n"
     ]
    }
   ],
   "source": [
    "print(labelFrame.sum())      #only 65 1s samples out of 402"
   ]
  },
  {
   "cell_type": "code",
   "execution_count": 139,
   "id": "c17e5f6e",
   "metadata": {},
   "outputs": [],
   "source": [
    "x_train, x_test, y_train, y_test = train_test_split(featFrame, labelFrame, test_size=0.2, random_state=101)"
   ]
  },
  {
   "cell_type": "code",
   "execution_count": 140,
   "id": "57ffc279",
   "metadata": {},
   "outputs": [
    {
     "name": "stdout",
     "output_type": "stream",
     "text": [
      "x_train : (276, 402)\n",
      "y_train : (276, 1)\n",
      "x_test : (69, 402)\n",
      "y_test : (69, 1)\n"
     ]
    }
   ],
   "source": [
    "print(f'x_train : {x_train.shape}')\n",
    "print(f'y_train : {y_train.shape}')\n",
    "print(f'x_test : {x_test.shape}')\n",
    "print(f'y_test : {y_test.shape}')"
   ]
  },
  {
   "cell_type": "code",
   "execution_count": 103,
   "id": "f694b9eb",
   "metadata": {},
   "outputs": [],
   "source": [
    "rf_Model = RandomForestClassifier()\n",
    "rf_Model.fit(x_train,y_train.values.ravel())"
   ]
  },
  {
   "cell_type": "code",
   "execution_count": 105,
   "id": "d68fa5b5",
   "metadata": {},
   "outputs": [
    {
     "name": "stdout",
     "output_type": "stream",
     "text": [
      "Train Accuracy - : 1.000\n",
      "Test Accuracy - : 0.754\n",
      "              precision    recall  f1-score   support\n",
      "\n",
      "           0       0.76      0.98      0.86        52\n",
      "           1       0.50      0.06      0.11        17\n",
      "\n",
      "    accuracy                           0.75        69\n",
      "   macro avg       0.63      0.52      0.48        69\n",
      "weighted avg       0.70      0.75      0.67        69\n",
      "\n",
      "     pred_neg  pred_pos\n",
      "neg        51         1\n",
      "pos        16         1\n"
     ]
    }
   ],
   "source": [
    "rf_pred = rf_Model.predict(x_test)\n",
    "print (f'Train Accuracy - : {rf_Model.score(x_train,y_train):.3f}')\n",
    "print (f'Test Accuracy - : {rf_Model.score(x_test,y_test):.3f}')\n",
    "print(classification_report(y_test, rf_pred))\n",
    "print(pd.DataFrame(confusion_matrix(y_test, rf_pred),\n",
    "                 columns=['pred_neg', 'pred_pos'], index=['neg', 'pos']))"
   ]
  },
  {
   "cell_type": "code",
   "execution_count": 52,
   "id": "484b1026",
   "metadata": {},
   "outputs": [
    {
     "name": "stdout",
     "output_type": "stream",
     "text": [
      "[0 0 0 0 0 0 0 0 0 0 0 0 0 0 0 0 1 0 0 0 0 0 0 0 0 0 0 0 0 0 0 0 0 0 0 0 0\n",
      " 0 0 1 0 0 0 0 0 0 0 0 0 0 0 0 0 0 0 0 0 0 0 0 0 0 0 0 0 0 0 0 0]\n"
     ]
    }
   ],
   "source": [
    "print(pred)"
   ]
  },
  {
   "cell_type": "code",
   "execution_count": 107,
   "id": "38768ce7",
   "metadata": {},
   "outputs": [],
   "source": [
    "#trying GridSearchCV\n",
    "\n",
    "# Number of trees in random forest\n",
    "n_estimators = [int(x) for x in np.linspace(start = 10, stop = 80, num = 10)]\n",
    "# Number of features to consider at every split\n",
    "max_features = ['auto', 'sqrt']\n",
    "# Maximum number of levels in tree\n",
    "max_depth = [4,6]\n",
    "# Minimum number of samples required to split a node\n",
    "min_samples_split = [2, 5]\n",
    "# Minimum number of samples required at each leaf node\n",
    "min_samples_leaf = [1, 2]\n",
    "# Method of selecting samples for training each tree\n",
    "bootstrap = [True, False]\n",
    "# Create the param grid\n",
    "param_grid = {'n_estimators': n_estimators,\n",
    "               'max_features': max_features,\n",
    "               'max_depth': max_depth,\n",
    "               'min_samples_split': min_samples_split,\n",
    "               'min_samples_leaf': min_samples_leaf,\n",
    "               'bootstrap': bootstrap}\n",
    "print(param_grid)"
   ]
  },
  {
   "cell_type": "code",
   "execution_count": 125,
   "id": "42ebe3d4",
   "metadata": {},
   "outputs": [
    {
     "name": "stdout",
     "output_type": "stream",
     "text": [
      "Fitting 3 folds for each of 320 candidates, totalling 960 fits\n",
      "{'bootstrap': True, 'max_depth': 4, 'max_features': 'auto', 'min_samples_leaf': 1, 'min_samples_split': 2, 'n_estimators': 33}\n",
      "Train Accuracy - : 0.870\n",
      "Test Accuracy - : 0.739\n",
      "              precision    recall  f1-score   support\n",
      "\n",
      "           0       0.75      0.98      0.85        52\n",
      "           1       0.00      0.00      0.00        17\n",
      "\n",
      "    accuracy                           0.74        69\n",
      "   macro avg       0.38      0.49      0.42        69\n",
      "weighted avg       0.57      0.74      0.64        69\n",
      "\n",
      "     pred_neg  pred_pos\n",
      "neg        44         8\n",
      "pos        15         2\n"
     ]
    },
    {
     "name": "stderr",
     "output_type": "stream",
     "text": [
      "C:\\Users\\Tamer\\anaconda3\\lib\\site-packages\\sklearn\\base.py:450: UserWarning: X does not have valid feature names, but RandomForestClassifier was fitted with feature names\n",
      "  warnings.warn(\n"
     ]
    }
   ],
   "source": [
    "rf_Model1 = RandomForestClassifier()   \n",
    "rf_Grid1 = GridSearchCV(estimator = rf_Model1, param_grid = param_grid, cv = 3, verbose=2, n_jobs = 4)\n",
    "rf_Grid1.fit(x_train, y_train.values.ravel())\n",
    "print(rf_Grid1.best_params_)\n",
    "print (f'Train Accuracy - : {rf_Grid1.score(x_train,y_train):.3f}')\n",
    "print (f'Test Accuracy - : {rf_Grid1.score(x_test,y_test):.3f}')\n",
    "rfg1pred = rf_Grid1.predict(x_test.values)\n",
    "print(classification_report(y_test, rfg1pred))\n",
    "print(pd.DataFrame(confusion_matrix(y_test, rfg1pred),\n",
    "                 columns=['pred_neg', 'pred_pos'], index=['neg', 'pos']))"
   ]
  },
  {
   "cell_type": "code",
   "execution_count": 126,
   "id": "890161c2",
   "metadata": {},
   "outputs": [
    {
     "name": "stdout",
     "output_type": "stream",
     "text": [
      "Fitting 3 folds for each of 320 candidates, totalling 960 fits\n",
      "{'bootstrap': True, 'max_depth': 4, 'max_features': 'sqrt', 'min_samples_leaf': 1, 'min_samples_split': 2, 'n_estimators': 80}\n",
      "Train Accuracy - : 0.931\n",
      "Test Accuracy - : 0.652\n",
      "              precision    recall  f1-score   support\n",
      "\n",
      "           0       0.76      0.79      0.77        52\n",
      "           1       0.27      0.24      0.25        17\n",
      "\n",
      "    accuracy                           0.65        69\n",
      "   macro avg       0.51      0.51      0.51        69\n",
      "weighted avg       0.64      0.65      0.64        69\n",
      "\n",
      "     pred_neg  pred_pos\n",
      "neg        41        11\n",
      "pos        13         4\n"
     ]
    },
    {
     "name": "stderr",
     "output_type": "stream",
     "text": [
      "C:\\Users\\Tamer\\anaconda3\\lib\\site-packages\\sklearn\\base.py:450: UserWarning: X does not have valid feature names, but RandomForestClassifier was fitted with feature names\n",
      "  warnings.warn(\n"
     ]
    }
   ],
   "source": [
    "rf_Model2 = RandomForestClassifier(class_weight = {0:13.0, 1:69.0})    #skewing the weight in 1's favor\n",
    "rf_Grid2 = GridSearchCV(estimator = rf_Model2, param_grid = param_grid, cv = 3, verbose=2, n_jobs = 4)\n",
    "rf_Grid2.fit(x_train, y_train.values.ravel())\n",
    "print(rf_Grid2.best_params_)\n",
    "print (f'Train Accuracy - : {rf_Grid2.score(x_train,y_train):.3f}')\n",
    "print (f'Test Accuracy - : {rf_Grid2.score(x_test,y_test):.3f}')\n",
    "rfg2pred = rf_Grid2.predict(x_test.values)\n",
    "print(classification_report(y_test, rfg2pred))\n",
    "print(pd.DataFrame(confusion_matrix(y_test, rfg2pred),\n",
    "                 columns=['pred_neg', 'pred_pos'], index=['neg', 'pos']))"
   ]
  },
  {
   "cell_type": "code",
   "execution_count": 127,
   "id": "f0db99d0",
   "metadata": {},
   "outputs": [
    {
     "name": "stdout",
     "output_type": "stream",
     "text": [
      "Train Accuracy - : 1.000\n",
      "Test Accuracy - : 0.710\n",
      "              precision    recall  f1-score   support\n",
      "\n",
      "           0       0.74      0.94      0.83        52\n",
      "           1       0.00      0.00      0.00        17\n",
      "\n",
      "    accuracy                           0.71        69\n",
      "   macro avg       0.37      0.47      0.42        69\n",
      "weighted avg       0.56      0.71      0.63        69\n",
      "\n",
      "     pred_neg  pred_pos\n",
      "neg        49         3\n",
      "pos        17         0\n"
     ]
    },
    {
     "name": "stderr",
     "output_type": "stream",
     "text": [
      "C:\\Users\\Tamer\\anaconda3\\lib\\site-packages\\sklearn\\base.py:450: UserWarning: X does not have valid feature names, but RandomForestClassifier was fitted with feature names\n",
      "  warnings.warn(\n"
     ]
    }
   ],
   "source": [
    "#trying a normal forest without GridSearchCV but with skewing the weights (intensely)\n",
    "rf_Model3 = RandomForestClassifier(class_weight =  {0:1.0, 1:1000.0})\n",
    "rf_Model3.fit(x_train,y_train.values.ravel())\n",
    "print (f'Train Accuracy - : {rf_Model3.score(x_train,y_train):.3f}')\n",
    "print (f'Test Accuracy - : {rf_Model3.score(x_test,y_test):.3f}')\n",
    "rf3pred = rf_Model3.predict(x_test.values)\n",
    "print(classification_report(y_test, rf3pred))\n",
    "print(pd.DataFrame(confusion_matrix(y_test, rf3pred),\n",
    "                 columns=['pred_neg', 'pred_pos'], index=['neg', 'pos']))"
   ]
  },
  {
   "cell_type": "code",
   "execution_count": 141,
   "id": "443ae4ea",
   "metadata": {},
   "outputs": [
    {
     "name": "stdout",
     "output_type": "stream",
     "text": [
      "Train Accuracy - : 1.000\n",
      "Test Accuracy - : 0.638\n",
      "              precision    recall  f1-score   support\n",
      "\n",
      "           0       0.75      0.77      0.76        52\n",
      "           1       0.25      0.24      0.24        17\n",
      "\n",
      "    accuracy                           0.64        69\n",
      "   macro avg       0.50      0.50      0.50        69\n",
      "weighted avg       0.63      0.64      0.63        69\n",
      "\n",
      "     pred_neg  pred_pos\n",
      "neg        40        12\n",
      "pos        13         4\n"
     ]
    },
    {
     "name": "stderr",
     "output_type": "stream",
     "text": [
      "C:\\Users\\Tamer\\anaconda3\\lib\\site-packages\\sklearn\\base.py:450: UserWarning: X does not have valid feature names, but DecisionTreeClassifier was fitted with feature names\n",
      "  warnings.warn(\n"
     ]
    }
   ],
   "source": [
    "#trying decision trees\n",
    "DT = DecisionTreeClassifier()\n",
    "DT.fit(x_train,y_train.values.ravel())\n",
    "print (f'Train Accuracy - : {DT.score(x_train,y_train):.3f}')\n",
    "print (f'Test Accuracy - : {DT.score(x_test,y_test):.3f}')\n",
    "DTpred = DT.predict(x_test.values)\n",
    "print(classification_report(y_test, DTpred))\n",
    "print(pd.DataFrame(confusion_matrix(y_test, DTpred),\n",
    "                 columns=['pred_neg', 'pred_pos'], index=['neg', 'pos']))"
   ]
  },
  {
   "cell_type": "code",
   "execution_count": 142,
   "id": "baeaf459",
   "metadata": {},
   "outputs": [
    {
     "data": {
      "text/html": [
       "<div>\n",
       "<style scoped>\n",
       "    .dataframe tbody tr th:only-of-type {\n",
       "        vertical-align: middle;\n",
       "    }\n",
       "\n",
       "    .dataframe tbody tr th {\n",
       "        vertical-align: top;\n",
       "    }\n",
       "\n",
       "    .dataframe thead th {\n",
       "        text-align: right;\n",
       "    }\n",
       "</style>\n",
       "<table border=\"1\" class=\"dataframe\">\n",
       "  <thead>\n",
       "    <tr style=\"text-align: right;\">\n",
       "      <th></th>\n",
       "      <th>Feat1</th>\n",
       "      <th>Feat2</th>\n",
       "      <th>Feat3</th>\n",
       "      <th>Feat4</th>\n",
       "      <th>Feat5</th>\n",
       "      <th>Feat6</th>\n",
       "      <th>Feat7</th>\n",
       "    </tr>\n",
       "  </thead>\n",
       "  <tbody>\n",
       "    <tr>\n",
       "      <th>0</th>\n",
       "      <td>33.884000</td>\n",
       "      <td>-0.084884</td>\n",
       "      <td>80.3</td>\n",
       "      <td>179.08</td>\n",
       "      <td>-1580.7</td>\n",
       "      <td>4.2</td>\n",
       "      <td>72.992</td>\n",
       "    </tr>\n",
       "    <tr>\n",
       "      <th>1</th>\n",
       "      <td>0.089601</td>\n",
       "      <td>-0.026476</td>\n",
       "      <td>67.1</td>\n",
       "      <td>567.25</td>\n",
       "      <td>-2845.7</td>\n",
       "      <td>1.2</td>\n",
       "      <td>60.802</td>\n",
       "    </tr>\n",
       "    <tr>\n",
       "      <th>2</th>\n",
       "      <td>0.158980</td>\n",
       "      <td>-0.044532</td>\n",
       "      <td>66.6</td>\n",
       "      <td>604.80</td>\n",
       "      <td>-3672.8</td>\n",
       "      <td>1.4</td>\n",
       "      <td>60.269</td>\n",
       "    </tr>\n",
       "    <tr>\n",
       "      <th>3</th>\n",
       "      <td>0.204950</td>\n",
       "      <td>-0.057763</td>\n",
       "      <td>64.8</td>\n",
       "      <td>719.65</td>\n",
       "      <td>-2962.7</td>\n",
       "      <td>1.4</td>\n",
       "      <td>58.742</td>\n",
       "    </tr>\n",
       "    <tr>\n",
       "      <th>4</th>\n",
       "      <td>0.196400</td>\n",
       "      <td>-0.056179</td>\n",
       "      <td>62.1</td>\n",
       "      <td>661.12</td>\n",
       "      <td>-3459.3</td>\n",
       "      <td>1.5</td>\n",
       "      <td>56.168</td>\n",
       "    </tr>\n",
       "  </tbody>\n",
       "</table>\n",
       "</div>"
      ],
      "text/plain": [
       "       Feat1     Feat2  Feat3   Feat4   Feat5  Feat6   Feat7\n",
       "0  33.884000 -0.084884   80.3  179.08 -1580.7    4.2  72.992\n",
       "1   0.089601 -0.026476   67.1  567.25 -2845.7    1.2  60.802\n",
       "2   0.158980 -0.044532   66.6  604.80 -3672.8    1.4  60.269\n",
       "3   0.204950 -0.057763   64.8  719.65 -2962.7    1.4  58.742\n",
       "4   0.196400 -0.056179   62.1  661.12 -3459.3    1.5  56.168"
      ]
     },
     "execution_count": 142,
     "metadata": {},
     "output_type": "execute_result"
    }
   ],
   "source": [
    "#trying new feature space: the 7 features Austin used\n",
    "newFeats = pd.read_csv('featsAustUsed.csv',header=0)\n",
    "newLabels = pd.read_csv('finalLabels.csv',header=0)\n",
    "newFeats.head()"
   ]
  },
  {
   "cell_type": "code",
   "execution_count": 143,
   "id": "78c127bf",
   "metadata": {},
   "outputs": [
    {
     "data": {
      "text/plain": [
       "Feat1    0\n",
       "Feat2    0\n",
       "Feat3    0\n",
       "Feat4    0\n",
       "Feat5    0\n",
       "Feat6    0\n",
       "Feat7    0\n",
       "dtype: int64"
      ]
     },
     "execution_count": 143,
     "metadata": {},
     "output_type": "execute_result"
    }
   ],
   "source": [
    "newFeats.isnull().sum()    #checking if there are missing values in the dataset"
   ]
  },
  {
   "cell_type": "code",
   "execution_count": 147,
   "id": "f3998202",
   "metadata": {},
   "outputs": [
    {
     "name": "stdout",
     "output_type": "stream",
     "text": [
      "SampleID    104\n",
      "dtype: int64\n"
     ]
    }
   ],
   "source": [
    "print(newLabels.sum())      #only 104 1s samples out of 328"
   ]
  },
  {
   "cell_type": "code",
   "execution_count": 148,
   "id": "ed0b1aec",
   "metadata": {},
   "outputs": [
    {
     "name": "stdout",
     "output_type": "stream",
     "text": [
      "(328, 7)\n"
     ]
    }
   ],
   "source": [
    "print(newFeats.shape) # 328 samples and 7 time points in each"
   ]
  },
  {
   "cell_type": "code",
   "execution_count": 150,
   "id": "a63b7b8b",
   "metadata": {},
   "outputs": [
    {
     "name": "stdout",
     "output_type": "stream",
     "text": [
      "x1_train : (262, 7)\n",
      "y1_train : (262, 1)\n",
      "x1_test : (66, 7)\n",
      "y1_test : (66, 1)\n"
     ]
    },
    {
     "data": {
      "text/plain": [
       "RandomForestClassifier()"
      ]
     },
     "execution_count": 150,
     "metadata": {},
     "output_type": "execute_result"
    }
   ],
   "source": [
    "x1_train, x1_test, y1_train, y1_test = train_test_split(newFeats, newLabels, test_size=0.2, random_state=101)\n",
    "print(f'x1_train : {x1_train.shape}')\n",
    "print(f'y1_train : {y1_train.shape}')\n",
    "print(f'x1_test : {x1_test.shape}')\n",
    "print(f'y1_test : {y1_test.shape}')\n",
    "rf4 = RandomForestClassifier()\n",
    "rf4.fit(x1_train, y1_train.values.ravel())"
   ]
  },
  {
   "cell_type": "code",
   "execution_count": 151,
   "id": "adfb9a82",
   "metadata": {},
   "outputs": [
    {
     "name": "stdout",
     "output_type": "stream",
     "text": [
      "Train Accuracy - : 1.000\n",
      "Test Accuracy - : 0.985\n",
      "              precision    recall  f1-score   support\n",
      "\n",
      "           0       1.00      0.98      0.99        50\n",
      "           1       0.94      1.00      0.97        16\n",
      "\n",
      "    accuracy                           0.98        66\n",
      "   macro avg       0.97      0.99      0.98        66\n",
      "weighted avg       0.99      0.98      0.99        66\n",
      "\n",
      "     pred_neg  pred_pos\n",
      "neg        49         1\n",
      "pos         0        16\n"
     ]
    }
   ],
   "source": [
    "rf4pred = rf4.predict(x1_test)\n",
    "print (f'Train Accuracy - : {rf4.score(x1_train,y1_train):.3f}')\n",
    "print (f'Test Accuracy - : {rf4.score(x1_test,y1_test):.3f}')\n",
    "print(classification_report(y1_test, rf4pred))\n",
    "print(pd.DataFrame(confusion_matrix(y1_test, rf4pred),\n",
    "                 columns=['pred_neg', 'pred_pos'], index=['neg', 'pos']))"
   ]
  },
  {
   "cell_type": "code",
   "execution_count": 158,
   "id": "cbf634ab",
   "metadata": {},
   "outputs": [
    {
     "name": "stdout",
     "output_type": "stream",
     "text": [
      "{'n_estimators': [10, 17, 25, 33, 41, 48, 56, 64, 72, 80], 'max_features': ['auto', 'sqrt'], 'max_depth': [4, 6], 'min_samples_split': [2, 5], 'min_samples_leaf': [1, 2], 'bootstrap': [True, False]}\n",
      "Fitting 5 folds for each of 320 candidates, totalling 1600 fits\n",
      "{'bootstrap': False, 'max_depth': 4, 'max_features': 'auto', 'min_samples_leaf': 1, 'min_samples_split': 5, 'n_estimators': 17}\n",
      "Train Set Accuracy - : 1.000\n",
      "Test Set Accuracy - : 0.985\n",
      "              precision    recall  f1-score   support\n",
      "\n",
      "           0       1.00      0.98      0.99        50\n",
      "           1       0.94      1.00      0.97        16\n",
      "\n",
      "    accuracy                           0.98        66\n",
      "   macro avg       0.97      0.99      0.98        66\n",
      "weighted avg       0.99      0.98      0.99        66\n",
      "\n",
      "     pred_neg  pred_pos\n",
      "neg        49         1\n",
      "pos         0        16\n"
     ]
    },
    {
     "name": "stderr",
     "output_type": "stream",
     "text": [
      "C:\\Users\\Tamer\\anaconda3\\lib\\site-packages\\sklearn\\base.py:450: UserWarning: X does not have valid feature names, but RandomForestClassifier was fitted with feature names\n",
      "  warnings.warn(\n"
     ]
    }
   ],
   "source": [
    "#trying GSCV with it. \n",
    "# Number of trees in random forest\n",
    "n_estimators = [int(x) for x in np.linspace(start = 10, stop = 80, num = 10)]\n",
    "# Number of features to consider at every split\n",
    "max_features = ['auto', 'sqrt']\n",
    "# Maximum number of levels in tree\n",
    "max_depth = [4,6]\n",
    "# Minimum number of samples required to split a node\n",
    "min_samples_split = [2, 5]\n",
    "# Minimum number of samples required at each leaf node\n",
    "min_samples_leaf = [1, 2]\n",
    "# Method of selecting samples for training each tree\n",
    "bootstrap = [True, False]\n",
    "# Create the param grid\n",
    "param_grid = {'n_estimators': n_estimators,\n",
    "               'max_features': max_features,\n",
    "               'max_depth': max_depth,\n",
    "               'min_samples_split': min_samples_split,\n",
    "               'min_samples_leaf': min_samples_leaf,\n",
    "               'bootstrap': bootstrap}\n",
    "print(param_grid)\n",
    "\n",
    "rfg3 = GridSearchCV(estimator = rf4, param_grid = param_grid, cv = 5, verbose=2, n_jobs = 4)\n",
    "rfg3.fit(x1_train, y1_train.values.ravel())\n",
    "print(rfg3.best_params_)\n",
    "print (f'Train Set Accuracy - : {rfg3.score(x1_train,y1_train):.3f}')\n",
    "print (f'Test Set Accuracy - : {rfg3.score(x1_test,y1_test):.3f}')\n",
    "rfg3pred = rfg3.predict(x1_test.values)\n",
    "print(classification_report(y1_test, rfg3pred))\n",
    "print(pd.DataFrame(confusion_matrix(y1_test, rfg3pred),\n",
    "                 columns=['pred_neg', 'pred_pos'], index=['neg', 'pos']))"
   ]
  },
  {
   "cell_type": "code",
   "execution_count": 162,
   "id": "70ed5731",
   "metadata": {},
   "outputs": [
    {
     "data": {
      "text/plain": [
       "array([0, 1], dtype=int64)"
      ]
     },
     "execution_count": 162,
     "metadata": {},
     "output_type": "execute_result"
    }
   ],
   "source": [
    "rfg3.classes_"
   ]
  },
  {
   "cell_type": "code",
   "execution_count": 171,
   "id": "64fd2518",
   "metadata": {},
   "outputs": [
    {
     "data": {
      "image/png": "[encoded data removed]",
      "text/plain": [
       "<Figure size 180x180 with 1 Axes>"
      ]
     },
     "metadata": {
      "needs_background": "light"
     },
     "output_type": "display_data"
    }
   ],
   "source": [
    "conf_matrix = confusion_matrix(y1_test, rfg3pred)\n",
    "fig, ax = plt.subplots(figsize=(2.5, 2.5))\n",
    "ax.matshow(conf_matrix, cmap=plt.cm.Blues, alpha=0.3)\n",
    "for i in range(conf_matrix.shape[0]):\n",
    "    for j in range(conf_matrix.shape[1]):\n",
    "        ax.text(x=j, y=i,s=conf_matrix[i, j], va='center', ha='center', size='x-large')\n",
    " \n",
    "plt.xlabel('Predictions', fontsize=18)\n",
    "plt.ylabel('Actuals', fontsize=18)\n",
    "plt.title('Confusion Matrix', fontsize=18)\n",
    "plt.show()"
   ]
  },
  {
   "cell_type": "code",
   "execution_count": 169,
   "id": "9bc0cc08",
   "metadata": {},
   "outputs": [
    {
     "name": "stdout",
     "output_type": "stream",
     "text": [
      "Fitting 5 folds for each of 320 candidates, totalling 1600 fits\n",
      "Fitting 5 folds for each of 320 candidates, totalling 1600 fits\n",
      "Fitting 5 folds for each of 320 candidates, totalling 1600 fits\n",
      "Fitting 5 folds for each of 320 candidates, totalling 1600 fits\n",
      "Fitting 5 folds for each of 320 candidates, totalling 1600 fits\n",
      "0.92 accuracy with a standard deviation of 0.07\n"
     ]
    }
   ],
   "source": [
    "from sklearn.model_selection import cross_val_score\n",
    "scores = cross_val_score(rfg3, x1_test, y1_test.values.ravel(), cv=5)\n",
    "print(\"%0.2f accuracy with a standard deviation of %0.2f\" % (scores.mean(), scores.std()))"
   ]
  },
  {
   "cell_type": "code",
   "execution_count": 173,
   "id": "55f35d59",
   "metadata": {
    "scrolled": true
   },
   "outputs": [
    {
     "name": "stdout",
     "output_type": "stream",
     "text": [
      "Fitting 5 folds for each of 320 candidates, totalling 1600 fits\n",
      "Fitting 5 folds for each of 320 candidates, totalling 1600 fits\n",
      "Fitting 5 folds for each of 320 candidates, totalling 1600 fits\n",
      "Fitting 5 folds for each of 320 candidates, totalling 1600 fits\n",
      "Fitting 5 folds for each of 320 candidates, totalling 1600 fits\n",
      "Fitting 5 folds for each of 320 candidates, totalling 1600 fits\n",
      "Fitting 5 folds for each of 320 candidates, totalling 1600 fits\n",
      "Fitting 5 folds for each of 320 candidates, totalling 1600 fits\n",
      "Fitting 5 folds for each of 320 candidates, totalling 1600 fits\n",
      "Fitting 5 folds for each of 320 candidates, totalling 1600 fits\n",
      "0.99 accuracy with a standard deviation of 0.04\n"
     ]
    }
   ],
   "source": [
    "from sklearn.model_selection import cross_val_score\n",
    "scores = cross_val_score(rfg3, x1_test, y1_test.values.ravel(), cv=10)\n",
    "print(\"%0.2f accuracy with a standard deviation of %0.2f\" % (scores.mean(), scores.std()))"
   ]
  },
  {
   "cell_type": "code",
   "execution_count": null,
   "id": "9afaa545",
   "metadata": {},
   "outputs": [],
   "source": []
  }
 ],
 "metadata": {
  "kernelspec": {
   "display_name": "Python 3",
   "language": "python",
   "name": "python3"
  },
  "language_info": {
   "codemirror_mode": {
    "name": "ipython",
    "version": 3
   },
   "file_extension": ".py",
   "mimetype": "text/x-python",
   "name": "python",
   "nbconvert_exporter": "python",
   "pygments_lexer": "ipython3",
   "version": "3.10.9"
  },
  "vscode": {
   "interpreter": {
    "hash": "93abe0c30184fb20f96093f4135f34052a80558641e8231edb1496ac2c8e5b10"
   }
  }
 },
 "nbformat": 4,
 "nbformat_minor": 5
}
